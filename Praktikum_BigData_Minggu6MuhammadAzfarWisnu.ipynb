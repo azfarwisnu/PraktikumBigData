{
  "nbformat": 4,
  "nbformat_minor": 0,
  "metadata": {
    "colab": {
      "name": "Untitled8.ipynb",
      "provenance": [],
      "collapsed_sections": []
    },
    "kernelspec": {
      "name": "python3",
      "display_name": "Python 3"
    },
    "language_info": {
      "name": "python"
    }
  },
  "cells": [
    {
      "cell_type": "markdown",
      "source": [
        "Instruksi Praktikum mahasiswa Tekrek : Teknik Industri, Teknik Mesin, Agroteknologi dan FTSP \n",
        "\n",
        "* Transformasikan data pada kolom strength menjadi kolom baru bernama 'Category', dengan ketentuan :\n",
        "   1. jika nilai >= 65 = 'Hard'\n",
        "   2. jika nilai >= 40 = 'Medium'\n",
        "   3. Jika nilai < 40 = 'Light'\n",
        "* Lakukan analisis histogram untuk pengaruh kolom age terhadap kolom strength, apakah yang dapat Anda simpulkan ?\n",
        "* Cari tahu komposisi concrete yang memiliki kekuatan tertinggi dan terendah\n",
        "* Berikan kesimpulan akhir anda terhadap pengaruh komposisi concrete berdasarkan dataset yang digunakan"
      ],
      "metadata": {
        "id": "axxcqv0aoYOh"
      }
    },
    {
      "cell_type": "markdown",
      "source": [
        "Muhammad azfar wisnu - 2ia02 - 50420803"
      ],
      "metadata": {
        "id": "FOGnlqazDwKc"
      }
    },
    {
      "cell_type": "code",
      "source": [
        "# Load data train dan test ke dalam pandas dataframe\n",
        "# dataset : https://gitlab.com/andreass.bayu/file-directory/-/raw/main/new_concreate.csv\n",
        "concrete = pd.read_csv(\"https://gitlab.com/andreass.bayu/file-directory/-/raw/main/new_concreate.csv\")"
      ],
      "metadata": {
        "id": "adGU8hvVodni"
      },
      "execution_count": 7,
      "outputs": []
    },
    {
      "cell_type": "code",
      "source": [
        "concrete.head()"
      ],
      "metadata": {
        "colab": {
          "base_uri": "https://localhost:8080/",
          "height": 206
        },
        "id": "2-8EhuWwoqu4",
        "outputId": "a017ea9e-d3e1-4566-ffbf-6a69c6ebb27a"
      },
      "execution_count": 8,
      "outputs": [
        {
          "output_type": "execute_result",
          "data": {
            "text/plain": [
              "   cement   slag    ash  water  superplastic  coarseagg  fineagg  age  \\\n",
              "0   141.3  212.0    NaN  203.5           NaN      971.8    748.5   28   \n",
              "1   168.9   42.2  124.3  158.3          10.8     1080.8    796.2   14   \n",
              "2   250.0    NaN   95.7  187.4           5.5      956.9    861.2   28   \n",
              "3   266.0  114.0    NaN  228.0           NaN      932.0    670.0   28   \n",
              "4   154.8  183.4    NaN  193.3           9.1     1047.4    696.7   28   \n",
              "\n",
              "   strength  \n",
              "0     29.89  \n",
              "1     23.51  \n",
              "2     29.22  \n",
              "3     45.85  \n",
              "4     18.29  "
            ],
            "text/html": [
              "\n",
              "  <div id=\"df-8fc95052-703b-47cf-8e1a-9da3645669cb\">\n",
              "    <div class=\"colab-df-container\">\n",
              "      <div>\n",
              "<style scoped>\n",
              "    .dataframe tbody tr th:only-of-type {\n",
              "        vertical-align: middle;\n",
              "    }\n",
              "\n",
              "    .dataframe tbody tr th {\n",
              "        vertical-align: top;\n",
              "    }\n",
              "\n",
              "    .dataframe thead th {\n",
              "        text-align: right;\n",
              "    }\n",
              "</style>\n",
              "<table border=\"1\" class=\"dataframe\">\n",
              "  <thead>\n",
              "    <tr style=\"text-align: right;\">\n",
              "      <th></th>\n",
              "      <th>cement</th>\n",
              "      <th>slag</th>\n",
              "      <th>ash</th>\n",
              "      <th>water</th>\n",
              "      <th>superplastic</th>\n",
              "      <th>coarseagg</th>\n",
              "      <th>fineagg</th>\n",
              "      <th>age</th>\n",
              "      <th>strength</th>\n",
              "    </tr>\n",
              "  </thead>\n",
              "  <tbody>\n",
              "    <tr>\n",
              "      <th>0</th>\n",
              "      <td>141.3</td>\n",
              "      <td>212.0</td>\n",
              "      <td>NaN</td>\n",
              "      <td>203.5</td>\n",
              "      <td>NaN</td>\n",
              "      <td>971.8</td>\n",
              "      <td>748.5</td>\n",
              "      <td>28</td>\n",
              "      <td>29.89</td>\n",
              "    </tr>\n",
              "    <tr>\n",
              "      <th>1</th>\n",
              "      <td>168.9</td>\n",
              "      <td>42.2</td>\n",
              "      <td>124.3</td>\n",
              "      <td>158.3</td>\n",
              "      <td>10.8</td>\n",
              "      <td>1080.8</td>\n",
              "      <td>796.2</td>\n",
              "      <td>14</td>\n",
              "      <td>23.51</td>\n",
              "    </tr>\n",
              "    <tr>\n",
              "      <th>2</th>\n",
              "      <td>250.0</td>\n",
              "      <td>NaN</td>\n",
              "      <td>95.7</td>\n",
              "      <td>187.4</td>\n",
              "      <td>5.5</td>\n",
              "      <td>956.9</td>\n",
              "      <td>861.2</td>\n",
              "      <td>28</td>\n",
              "      <td>29.22</td>\n",
              "    </tr>\n",
              "    <tr>\n",
              "      <th>3</th>\n",
              "      <td>266.0</td>\n",
              "      <td>114.0</td>\n",
              "      <td>NaN</td>\n",
              "      <td>228.0</td>\n",
              "      <td>NaN</td>\n",
              "      <td>932.0</td>\n",
              "      <td>670.0</td>\n",
              "      <td>28</td>\n",
              "      <td>45.85</td>\n",
              "    </tr>\n",
              "    <tr>\n",
              "      <th>4</th>\n",
              "      <td>154.8</td>\n",
              "      <td>183.4</td>\n",
              "      <td>NaN</td>\n",
              "      <td>193.3</td>\n",
              "      <td>9.1</td>\n",
              "      <td>1047.4</td>\n",
              "      <td>696.7</td>\n",
              "      <td>28</td>\n",
              "      <td>18.29</td>\n",
              "    </tr>\n",
              "  </tbody>\n",
              "</table>\n",
              "</div>\n",
              "      <button class=\"colab-df-convert\" onclick=\"convertToInteractive('df-8fc95052-703b-47cf-8e1a-9da3645669cb')\"\n",
              "              title=\"Convert this dataframe to an interactive table.\"\n",
              "              style=\"display:none;\">\n",
              "        \n",
              "  <svg xmlns=\"http://www.w3.org/2000/svg\" height=\"24px\"viewBox=\"0 0 24 24\"\n",
              "       width=\"24px\">\n",
              "    <path d=\"M0 0h24v24H0V0z\" fill=\"none\"/>\n",
              "    <path d=\"M18.56 5.44l.94 2.06.94-2.06 2.06-.94-2.06-.94-.94-2.06-.94 2.06-2.06.94zm-11 1L8.5 8.5l.94-2.06 2.06-.94-2.06-.94L8.5 2.5l-.94 2.06-2.06.94zm10 10l.94 2.06.94-2.06 2.06-.94-2.06-.94-.94-2.06-.94 2.06-2.06.94z\"/><path d=\"M17.41 7.96l-1.37-1.37c-.4-.4-.92-.59-1.43-.59-.52 0-1.04.2-1.43.59L10.3 9.45l-7.72 7.72c-.78.78-.78 2.05 0 2.83L4 21.41c.39.39.9.59 1.41.59.51 0 1.02-.2 1.41-.59l7.78-7.78 2.81-2.81c.8-.78.8-2.07 0-2.86zM5.41 20L4 18.59l7.72-7.72 1.47 1.35L5.41 20z\"/>\n",
              "  </svg>\n",
              "      </button>\n",
              "      \n",
              "  <style>\n",
              "    .colab-df-container {\n",
              "      display:flex;\n",
              "      flex-wrap:wrap;\n",
              "      gap: 12px;\n",
              "    }\n",
              "\n",
              "    .colab-df-convert {\n",
              "      background-color: #E8F0FE;\n",
              "      border: none;\n",
              "      border-radius: 50%;\n",
              "      cursor: pointer;\n",
              "      display: none;\n",
              "      fill: #1967D2;\n",
              "      height: 32px;\n",
              "      padding: 0 0 0 0;\n",
              "      width: 32px;\n",
              "    }\n",
              "\n",
              "    .colab-df-convert:hover {\n",
              "      background-color: #E2EBFA;\n",
              "      box-shadow: 0px 1px 2px rgba(60, 64, 67, 0.3), 0px 1px 3px 1px rgba(60, 64, 67, 0.15);\n",
              "      fill: #174EA6;\n",
              "    }\n",
              "\n",
              "    [theme=dark] .colab-df-convert {\n",
              "      background-color: #3B4455;\n",
              "      fill: #D2E3FC;\n",
              "    }\n",
              "\n",
              "    [theme=dark] .colab-df-convert:hover {\n",
              "      background-color: #434B5C;\n",
              "      box-shadow: 0px 1px 3px 1px rgba(0, 0, 0, 0.15);\n",
              "      filter: drop-shadow(0px 1px 2px rgba(0, 0, 0, 0.3));\n",
              "      fill: #FFFFFF;\n",
              "    }\n",
              "  </style>\n",
              "\n",
              "      <script>\n",
              "        const buttonEl =\n",
              "          document.querySelector('#df-8fc95052-703b-47cf-8e1a-9da3645669cb button.colab-df-convert');\n",
              "        buttonEl.style.display =\n",
              "          google.colab.kernel.accessAllowed ? 'block' : 'none';\n",
              "\n",
              "        async function convertToInteractive(key) {\n",
              "          const element = document.querySelector('#df-8fc95052-703b-47cf-8e1a-9da3645669cb');\n",
              "          const dataTable =\n",
              "            await google.colab.kernel.invokeFunction('convertToInteractive',\n",
              "                                                     [key], {});\n",
              "          if (!dataTable) return;\n",
              "\n",
              "          const docLinkHtml = 'Like what you see? Visit the ' +\n",
              "            '<a target=\"_blank\" href=https://colab.research.google.com/notebooks/data_table.ipynb>data table notebook</a>'\n",
              "            + ' to learn more about interactive tables.';\n",
              "          element.innerHTML = '';\n",
              "          dataTable['output_type'] = 'display_data';\n",
              "          await google.colab.output.renderOutput(dataTable, element);\n",
              "          const docLink = document.createElement('div');\n",
              "          docLink.innerHTML = docLinkHtml;\n",
              "          element.appendChild(docLink);\n",
              "        }\n",
              "      </script>\n",
              "    </div>\n",
              "  </div>\n",
              "  "
            ]
          },
          "metadata": {},
          "execution_count": 8
        }
      ]
    },
    {
      "cell_type": "code",
      "source": [
        "#cleaning\n",
        "concrete['ash'] = concrete['ash'].fillna(0)\n",
        "concrete['slag'] = concrete['slag'].fillna(0)\n",
        "concrete['superplastic'] = concrete['superplastic'].fillna(0)\n",
        "concrete.isnull().sum()"
      ],
      "metadata": {
        "colab": {
          "base_uri": "https://localhost:8080/"
        },
        "id": "6rB688uRC_yz",
        "outputId": "d6bda6d9-f230-46fb-cacf-6947c238f2a9"
      },
      "execution_count": 41,
      "outputs": [
        {
          "output_type": "execute_result",
          "data": {
            "text/plain": [
              "cement          0\n",
              "slag            0\n",
              "ash             0\n",
              "water           0\n",
              "superplastic    0\n",
              "coarseagg       0\n",
              "fineagg         0\n",
              "age             0\n",
              "strength        0\n",
              "dtype: int64"
            ]
          },
          "metadata": {},
          "execution_count": 41
        }
      ]
    },
    {
      "cell_type": "markdown",
      "source": [
        "Transformasikan data pada kolom strength menjadi kolom baru bernama 'Category', dengan ketentuan"
      ],
      "metadata": {
        "id": "EayNiSeUpfpr"
      }
    },
    {
      "cell_type": "code",
      "source": [
        "dataArray = []\n",
        "level = \"\"\n",
        "\n",
        "for val in concrete['strength']:\n",
        "  if(val >= 65):\n",
        "    level = \"Hard\"\n",
        "  elif(val >= 40):\n",
        "    level = \"Medium\"\n",
        "  elif(val < 40):\n",
        "    level = \"Light\"\n",
        "  \n",
        "  dataArray.append(level)\n",
        "\n",
        "print(dataArray)\n"
      ],
      "metadata": {
        "colab": {
          "base_uri": "https://localhost:8080/"
        },
        "id": "gXAbIhRCpyZ0",
        "outputId": "57e79708-7c7d-4005-a9e5-79826d59032d"
      },
      "execution_count": 12,
      "outputs": [
        {
          "output_type": "stream",
          "name": "stdout",
          "text": [
            "['Light', 'Light', 'Light', 'Medium', 'Light', 'Light', 'Light', 'Light', 'Light', 'Light', 'Light', 'Light', 'Light', 'Light', 'Light', 'Medium', 'Light', 'Medium', 'Light', 'Light', 'Light', 'Light', 'Light', 'Light', 'Light', 'Medium', 'Medium', 'Hard', 'Light', 'Light', 'Light', 'Light', 'Light', 'Medium', 'Light', 'Light', 'Light', 'Medium', 'Light', 'Medium', 'Light', 'Medium', 'Light', 'Light', 'Medium', 'Medium', 'Light', 'Medium', 'Medium', 'Light', 'Medium', 'Light', 'Light', 'Light', 'Light', 'Light', 'Medium', 'Light', 'Light', 'Medium', 'Light', 'Light', 'Light', 'Medium', 'Medium', 'Light', 'Light', 'Medium', 'Medium', 'Medium', 'Light', 'Medium', 'Light', 'Light', 'Medium', 'Light', 'Light', 'Light', 'Light', 'Light', 'Light', 'Light', 'Light', 'Medium', 'Light', 'Light', 'Hard', 'Light', 'Light', 'Light', 'Light', 'Medium', 'Light', 'Medium', 'Light', 'Medium', 'Hard', 'Light', 'Light', 'Light', 'Light', 'Medium', 'Light', 'Medium', 'Light', 'Light', 'Light', 'Light', 'Light', 'Light', 'Medium', 'Light', 'Light', 'Light', 'Light', 'Light', 'Light', 'Light', 'Light', 'Light', 'Light', 'Light', 'Light', 'Medium', 'Medium', 'Light', 'Light', 'Light', 'Hard', 'Medium', 'Light', 'Light', 'Light', 'Light', 'Light', 'Medium', 'Medium', 'Medium', 'Light', 'Light', 'Light', 'Light', 'Light', 'Medium', 'Light', 'Light', 'Light', 'Medium', 'Medium', 'Medium', 'Light', 'Light', 'Light', 'Light', 'Light', 'Light', 'Medium', 'Medium', 'Light', 'Medium', 'Light', 'Hard', 'Light', 'Medium', 'Light', 'Light', 'Medium', 'Light', 'Light', 'Medium', 'Medium', 'Medium', 'Light', 'Medium', 'Medium', 'Light', 'Light', 'Medium', 'Medium', 'Light', 'Light', 'Medium', 'Medium', 'Light', 'Light', 'Light', 'Light', 'Light', 'Medium', 'Medium', 'Hard', 'Medium', 'Hard', 'Light', 'Light', 'Light', 'Light', 'Hard', 'Medium', 'Light', 'Light', 'Light', 'Light', 'Medium', 'Light', 'Light', 'Light', 'Medium', 'Medium', 'Light', 'Light', 'Light', 'Medium', 'Light', 'Light', 'Light', 'Hard', 'Light', 'Light', 'Light', 'Light', 'Light', 'Light', 'Light', 'Light', 'Light', 'Medium', 'Light', 'Light', 'Medium', 'Light', 'Light', 'Hard', 'Light', 'Medium', 'Light', 'Light', 'Light', 'Light', 'Hard', 'Medium', 'Medium', 'Light', 'Medium', 'Medium', 'Hard', 'Light', 'Medium', 'Light', 'Light', 'Medium', 'Light', 'Light', 'Light', 'Light', 'Light', 'Hard', 'Hard', 'Medium', 'Light', 'Medium', 'Light', 'Medium', 'Light', 'Hard', 'Light', 'Medium', 'Light', 'Light', 'Light', 'Medium', 'Light', 'Medium', 'Hard', 'Light', 'Medium', 'Light', 'Medium', 'Light', 'Hard', 'Medium', 'Medium', 'Light', 'Medium', 'Light', 'Medium', 'Medium', 'Light', 'Light', 'Light', 'Light', 'Medium', 'Hard', 'Medium', 'Light', 'Light', 'Light', 'Medium', 'Light', 'Light', 'Light', 'Medium', 'Medium', 'Medium', 'Light', 'Light', 'Light', 'Medium', 'Light', 'Light', 'Medium', 'Light', 'Light', 'Hard', 'Light', 'Light', 'Light', 'Light', 'Medium', 'Light', 'Medium', 'Light', 'Light', 'Medium', 'Light', 'Medium', 'Light', 'Light', 'Light', 'Medium', 'Light', 'Light', 'Light', 'Light', 'Light', 'Light', 'Medium', 'Hard', 'Light', 'Medium', 'Light', 'Medium', 'Medium', 'Light', 'Light', 'Medium', 'Medium', 'Medium', 'Medium', 'Medium', 'Light', 'Light', 'Light', 'Medium', 'Light', 'Medium', 'Light', 'Light', 'Light', 'Medium', 'Light', 'Light', 'Light', 'Medium', 'Medium', 'Light', 'Medium', 'Light', 'Light', 'Light', 'Medium', 'Light', 'Light', 'Medium', 'Light', 'Light', 'Light', 'Light', 'Light', 'Medium', 'Light', 'Light', 'Light', 'Hard', 'Light', 'Medium', 'Medium', 'Light', 'Light', 'Light', 'Light', 'Light', 'Medium', 'Medium', 'Light', 'Medium', 'Medium', 'Light', 'Light', 'Light', 'Light', 'Light', 'Light', 'Medium', 'Light', 'Medium', 'Light', 'Light', 'Medium', 'Light', 'Light', 'Medium', 'Hard', 'Light', 'Medium', 'Medium', 'Medium', 'Light', 'Medium', 'Medium', 'Light', 'Light', 'Light', 'Medium', 'Light', 'Hard', 'Medium', 'Light', 'Medium', 'Light', 'Light', 'Medium', 'Light', 'Medium', 'Light', 'Medium', 'Medium', 'Light', 'Light', 'Light', 'Light', 'Light', 'Light', 'Light', 'Light', 'Medium', 'Medium', 'Medium', 'Medium', 'Medium', 'Light', 'Medium', 'Hard', 'Medium', 'Light', 'Light', 'Medium', 'Light', 'Medium', 'Light', 'Light', 'Medium', 'Light', 'Hard', 'Light', 'Medium', 'Light', 'Light', 'Light', 'Hard', 'Light', 'Light', 'Light', 'Hard', 'Medium', 'Light', 'Hard', 'Medium', 'Light', 'Medium', 'Medium', 'Medium', 'Hard', 'Light', 'Light', 'Light', 'Light', 'Light', 'Medium', 'Medium', 'Light', 'Hard', 'Light', 'Hard', 'Light', 'Light', 'Medium', 'Light', 'Light', 'Medium', 'Medium', 'Light', 'Light', 'Light', 'Light', 'Light', 'Hard', 'Light', 'Light', 'Light', 'Light', 'Light', 'Light', 'Light', 'Medium', 'Light', 'Light', 'Medium', 'Light', 'Medium', 'Light', 'Light', 'Medium', 'Light', 'Medium', 'Hard', 'Light', 'Hard', 'Light', 'Hard', 'Light', 'Light', 'Hard', 'Medium', 'Medium', 'Light', 'Light', 'Medium', 'Medium', 'Medium', 'Medium', 'Light', 'Light', 'Medium', 'Light', 'Hard', 'Light', 'Light', 'Light', 'Medium', 'Light', 'Medium', 'Light', 'Medium', 'Light', 'Light', 'Medium', 'Light', 'Light', 'Medium', 'Light', 'Light', 'Medium', 'Light', 'Light', 'Medium', 'Light', 'Light', 'Light', 'Hard', 'Medium', 'Light', 'Medium', 'Light', 'Medium', 'Hard', 'Medium', 'Medium', 'Medium', 'Light', 'Medium', 'Medium', 'Medium', 'Light', 'Medium', 'Medium', 'Light', 'Light', 'Light', 'Light', 'Medium', 'Light', 'Light', 'Hard', 'Light', 'Light', 'Light', 'Light', 'Medium', 'Light', 'Light', 'Light', 'Light', 'Light', 'Hard', 'Light', 'Light', 'Light', 'Hard', 'Light', 'Medium', 'Medium', 'Light', 'Light', 'Medium', 'Medium', 'Medium', 'Light', 'Light', 'Light', 'Light', 'Light', 'Medium', 'Medium', 'Medium', 'Medium', 'Medium', 'Light', 'Light', 'Light', 'Light', 'Light', 'Medium', 'Light', 'Medium', 'Medium', 'Light', 'Light', 'Light', 'Light', 'Medium', 'Light', 'Medium', 'Medium', 'Light', 'Light', 'Light', 'Light', 'Light', 'Light', 'Light', 'Light', 'Light', 'Hard', 'Medium', 'Light', 'Light', 'Light', 'Medium', 'Light', 'Light', 'Medium', 'Light', 'Light', 'Light', 'Light', 'Light', 'Light', 'Light', 'Light', 'Light', 'Light', 'Light', 'Light', 'Light', 'Light', 'Medium', 'Light', 'Light', 'Light', 'Light', 'Light', 'Light', 'Light', 'Light', 'Light', 'Light', 'Medium', 'Medium', 'Light', 'Light', 'Light', 'Light', 'Light', 'Light', 'Light', 'Light', 'Light', 'Light', 'Hard', 'Light', 'Light', 'Light', 'Light', 'Light', 'Light', 'Light', 'Light', 'Light', 'Medium', 'Light', 'Medium', 'Medium', 'Medium', 'Light', 'Light', 'Light', 'Light', 'Light', 'Light', 'Medium', 'Medium', 'Light', 'Medium', 'Light', 'Medium', 'Light', 'Light', 'Light', 'Light', 'Medium', 'Light', 'Hard', 'Hard', 'Medium', 'Light', 'Light', 'Light', 'Hard', 'Light', 'Light', 'Hard', 'Light', 'Light', 'Medium', 'Medium', 'Medium', 'Light', 'Light', 'Light', 'Medium', 'Light', 'Medium', 'Light', 'Light', 'Medium', 'Light', 'Light', 'Medium', 'Light', 'Medium', 'Medium', 'Light', 'Light', 'Light', 'Light', 'Hard', 'Medium', 'Light', 'Light', 'Light', 'Light', 'Light', 'Light', 'Medium', 'Light', 'Hard', 'Light', 'Light', 'Light', 'Medium', 'Light', 'Light', 'Light', 'Medium', 'Light', 'Light', 'Light', 'Medium', 'Light', 'Light', 'Light', 'Light', 'Light', 'Light', 'Light', 'Light', 'Light', 'Light', 'Light', 'Light', 'Medium', 'Light', 'Light', 'Light', 'Light', 'Light', 'Light', 'Medium', 'Light', 'Light', 'Medium', 'Light', 'Light', 'Medium', 'Light', 'Hard', 'Light', 'Light', 'Light', 'Light', 'Light', 'Light', 'Medium', 'Hard', 'Light', 'Light', 'Light', 'Medium', 'Light', 'Medium', 'Light', 'Light', 'Medium', 'Hard', 'Light', 'Medium', 'Light', 'Medium', 'Light', 'Light', 'Light', 'Light', 'Light', 'Light', 'Light', 'Light', 'Light', 'Medium', 'Light', 'Medium', 'Light', 'Light', 'Light', 'Light', 'Light', 'Medium', 'Medium', 'Medium', 'Light', 'Light', 'Light', 'Light', 'Hard', 'Medium', 'Light', 'Light', 'Medium', 'Light', 'Medium', 'Light', 'Light', 'Light', 'Light', 'Medium', 'Medium', 'Light', 'Medium', 'Light', 'Light', 'Medium', 'Medium', 'Light', 'Light', 'Medium', 'Medium', 'Medium', 'Medium', 'Medium', 'Medium', 'Light', 'Hard', 'Hard', 'Medium', 'Medium', 'Light', 'Light', 'Light', 'Light', 'Medium', 'Light', 'Medium', 'Medium', 'Medium', 'Light', 'Medium', 'Light', 'Medium', 'Light', 'Medium', 'Light', 'Medium', 'Light', 'Hard', 'Light', 'Light', 'Light', 'Light', 'Light', 'Light', 'Light', 'Light', 'Light', 'Light', 'Light', 'Light', 'Medium', 'Light', 'Medium', 'Light', 'Light', 'Medium', 'Light', 'Medium', 'Light', 'Hard', 'Medium', 'Medium', 'Light', 'Medium', 'Light', 'Medium', 'Light', 'Light', 'Light', 'Medium', 'Medium', 'Light', 'Light', 'Medium', 'Hard', 'Medium', 'Medium', 'Medium', 'Light', 'Medium', 'Medium', 'Light', 'Light', 'Medium', 'Light', 'Light', 'Light', 'Medium', 'Medium', 'Hard', 'Light', 'Hard', 'Light', 'Light', 'Light', 'Medium', 'Light', 'Light', 'Medium', 'Light', 'Light', 'Light', 'Medium', 'Medium', 'Medium', 'Hard', 'Medium', 'Light', 'Medium', 'Light', 'Light', 'Light', 'Light', 'Medium', 'Light', 'Hard', 'Medium', 'Light', 'Light', 'Medium', 'Light', 'Light', 'Light', 'Medium', 'Light', 'Light', 'Light', 'Hard', 'Light', 'Medium', 'Light', 'Light', 'Medium', 'Medium', 'Light', 'Light', 'Light', 'Medium', 'Light', 'Medium', 'Light', 'Medium', 'Light', 'Light', 'Light', 'Light', 'Light', 'Light', 'Light', 'Light', 'Medium', 'Medium', 'Medium', 'Medium']\n"
          ]
        }
      ]
    },
    {
      "cell_type": "code",
      "source": [
        "df = pd.DataFrame(concrete)\n",
        "newData = {\n",
        "    'Category': dataArray,\n",
        "}\n",
        "\n",
        "df.assign(Category = dataArray)"
      ],
      "metadata": {
        "colab": {
          "base_uri": "https://localhost:8080/",
          "height": 423
        },
        "id": "2uK2ApR1q00E",
        "outputId": "6e856c10-0749-4162-ed5d-54cf0865530b"
      },
      "execution_count": 18,
      "outputs": [
        {
          "output_type": "execute_result",
          "data": {
            "text/plain": [
              "      cement   slag    ash  water  superplastic  coarseagg  fineagg  age  \\\n",
              "0      141.3  212.0    NaN  203.5           NaN      971.8    748.5   28   \n",
              "1      168.9   42.2  124.3  158.3          10.8     1080.8    796.2   14   \n",
              "2      250.0    NaN   95.7  187.4           5.5      956.9    861.2   28   \n",
              "3      266.0  114.0    NaN  228.0           NaN      932.0    670.0   28   \n",
              "4      154.8  183.4    NaN  193.3           9.1     1047.4    696.7   28   \n",
              "...      ...    ...    ...    ...           ...        ...      ...  ...   \n",
              "1025   135.0    NaN  166.0  180.0          10.0      961.0    805.0   28   \n",
              "1026   531.3    NaN    NaN  141.8          28.2      852.1    893.7    3   \n",
              "1027   276.4  116.0   90.3  179.6           8.9      870.1    768.3   28   \n",
              "1028   342.0   38.0    NaN  228.0           NaN      932.0    670.0  270   \n",
              "1029   540.0    NaN    NaN  173.0           NaN     1125.0    613.0    7   \n",
              "\n",
              "      strength Category  \n",
              "0        29.89    Light  \n",
              "1        23.51    Light  \n",
              "2        29.22    Light  \n",
              "3        45.85   Medium  \n",
              "4        18.29    Light  \n",
              "...        ...      ...  \n",
              "1025     13.29    Light  \n",
              "1026     41.30   Medium  \n",
              "1027     44.28   Medium  \n",
              "1028     55.06   Medium  \n",
              "1029     52.61   Medium  \n",
              "\n",
              "[1030 rows x 10 columns]"
            ],
            "text/html": [
              "\n",
              "  <div id=\"df-6c6838ec-5a1b-4ad6-b769-5bd495327414\">\n",
              "    <div class=\"colab-df-container\">\n",
              "      <div>\n",
              "<style scoped>\n",
              "    .dataframe tbody tr th:only-of-type {\n",
              "        vertical-align: middle;\n",
              "    }\n",
              "\n",
              "    .dataframe tbody tr th {\n",
              "        vertical-align: top;\n",
              "    }\n",
              "\n",
              "    .dataframe thead th {\n",
              "        text-align: right;\n",
              "    }\n",
              "</style>\n",
              "<table border=\"1\" class=\"dataframe\">\n",
              "  <thead>\n",
              "    <tr style=\"text-align: right;\">\n",
              "      <th></th>\n",
              "      <th>cement</th>\n",
              "      <th>slag</th>\n",
              "      <th>ash</th>\n",
              "      <th>water</th>\n",
              "      <th>superplastic</th>\n",
              "      <th>coarseagg</th>\n",
              "      <th>fineagg</th>\n",
              "      <th>age</th>\n",
              "      <th>strength</th>\n",
              "      <th>Category</th>\n",
              "    </tr>\n",
              "  </thead>\n",
              "  <tbody>\n",
              "    <tr>\n",
              "      <th>0</th>\n",
              "      <td>141.3</td>\n",
              "      <td>212.0</td>\n",
              "      <td>NaN</td>\n",
              "      <td>203.5</td>\n",
              "      <td>NaN</td>\n",
              "      <td>971.8</td>\n",
              "      <td>748.5</td>\n",
              "      <td>28</td>\n",
              "      <td>29.89</td>\n",
              "      <td>Light</td>\n",
              "    </tr>\n",
              "    <tr>\n",
              "      <th>1</th>\n",
              "      <td>168.9</td>\n",
              "      <td>42.2</td>\n",
              "      <td>124.3</td>\n",
              "      <td>158.3</td>\n",
              "      <td>10.8</td>\n",
              "      <td>1080.8</td>\n",
              "      <td>796.2</td>\n",
              "      <td>14</td>\n",
              "      <td>23.51</td>\n",
              "      <td>Light</td>\n",
              "    </tr>\n",
              "    <tr>\n",
              "      <th>2</th>\n",
              "      <td>250.0</td>\n",
              "      <td>NaN</td>\n",
              "      <td>95.7</td>\n",
              "      <td>187.4</td>\n",
              "      <td>5.5</td>\n",
              "      <td>956.9</td>\n",
              "      <td>861.2</td>\n",
              "      <td>28</td>\n",
              "      <td>29.22</td>\n",
              "      <td>Light</td>\n",
              "    </tr>\n",
              "    <tr>\n",
              "      <th>3</th>\n",
              "      <td>266.0</td>\n",
              "      <td>114.0</td>\n",
              "      <td>NaN</td>\n",
              "      <td>228.0</td>\n",
              "      <td>NaN</td>\n",
              "      <td>932.0</td>\n",
              "      <td>670.0</td>\n",
              "      <td>28</td>\n",
              "      <td>45.85</td>\n",
              "      <td>Medium</td>\n",
              "    </tr>\n",
              "    <tr>\n",
              "      <th>4</th>\n",
              "      <td>154.8</td>\n",
              "      <td>183.4</td>\n",
              "      <td>NaN</td>\n",
              "      <td>193.3</td>\n",
              "      <td>9.1</td>\n",
              "      <td>1047.4</td>\n",
              "      <td>696.7</td>\n",
              "      <td>28</td>\n",
              "      <td>18.29</td>\n",
              "      <td>Light</td>\n",
              "    </tr>\n",
              "    <tr>\n",
              "      <th>...</th>\n",
              "      <td>...</td>\n",
              "      <td>...</td>\n",
              "      <td>...</td>\n",
              "      <td>...</td>\n",
              "      <td>...</td>\n",
              "      <td>...</td>\n",
              "      <td>...</td>\n",
              "      <td>...</td>\n",
              "      <td>...</td>\n",
              "      <td>...</td>\n",
              "    </tr>\n",
              "    <tr>\n",
              "      <th>1025</th>\n",
              "      <td>135.0</td>\n",
              "      <td>NaN</td>\n",
              "      <td>166.0</td>\n",
              "      <td>180.0</td>\n",
              "      <td>10.0</td>\n",
              "      <td>961.0</td>\n",
              "      <td>805.0</td>\n",
              "      <td>28</td>\n",
              "      <td>13.29</td>\n",
              "      <td>Light</td>\n",
              "    </tr>\n",
              "    <tr>\n",
              "      <th>1026</th>\n",
              "      <td>531.3</td>\n",
              "      <td>NaN</td>\n",
              "      <td>NaN</td>\n",
              "      <td>141.8</td>\n",
              "      <td>28.2</td>\n",
              "      <td>852.1</td>\n",
              "      <td>893.7</td>\n",
              "      <td>3</td>\n",
              "      <td>41.30</td>\n",
              "      <td>Medium</td>\n",
              "    </tr>\n",
              "    <tr>\n",
              "      <th>1027</th>\n",
              "      <td>276.4</td>\n",
              "      <td>116.0</td>\n",
              "      <td>90.3</td>\n",
              "      <td>179.6</td>\n",
              "      <td>8.9</td>\n",
              "      <td>870.1</td>\n",
              "      <td>768.3</td>\n",
              "      <td>28</td>\n",
              "      <td>44.28</td>\n",
              "      <td>Medium</td>\n",
              "    </tr>\n",
              "    <tr>\n",
              "      <th>1028</th>\n",
              "      <td>342.0</td>\n",
              "      <td>38.0</td>\n",
              "      <td>NaN</td>\n",
              "      <td>228.0</td>\n",
              "      <td>NaN</td>\n",
              "      <td>932.0</td>\n",
              "      <td>670.0</td>\n",
              "      <td>270</td>\n",
              "      <td>55.06</td>\n",
              "      <td>Medium</td>\n",
              "    </tr>\n",
              "    <tr>\n",
              "      <th>1029</th>\n",
              "      <td>540.0</td>\n",
              "      <td>NaN</td>\n",
              "      <td>NaN</td>\n",
              "      <td>173.0</td>\n",
              "      <td>NaN</td>\n",
              "      <td>1125.0</td>\n",
              "      <td>613.0</td>\n",
              "      <td>7</td>\n",
              "      <td>52.61</td>\n",
              "      <td>Medium</td>\n",
              "    </tr>\n",
              "  </tbody>\n",
              "</table>\n",
              "<p>1030 rows × 10 columns</p>\n",
              "</div>\n",
              "      <button class=\"colab-df-convert\" onclick=\"convertToInteractive('df-6c6838ec-5a1b-4ad6-b769-5bd495327414')\"\n",
              "              title=\"Convert this dataframe to an interactive table.\"\n",
              "              style=\"display:none;\">\n",
              "        \n",
              "  <svg xmlns=\"http://www.w3.org/2000/svg\" height=\"24px\"viewBox=\"0 0 24 24\"\n",
              "       width=\"24px\">\n",
              "    <path d=\"M0 0h24v24H0V0z\" fill=\"none\"/>\n",
              "    <path d=\"M18.56 5.44l.94 2.06.94-2.06 2.06-.94-2.06-.94-.94-2.06-.94 2.06-2.06.94zm-11 1L8.5 8.5l.94-2.06 2.06-.94-2.06-.94L8.5 2.5l-.94 2.06-2.06.94zm10 10l.94 2.06.94-2.06 2.06-.94-2.06-.94-.94-2.06-.94 2.06-2.06.94z\"/><path d=\"M17.41 7.96l-1.37-1.37c-.4-.4-.92-.59-1.43-.59-.52 0-1.04.2-1.43.59L10.3 9.45l-7.72 7.72c-.78.78-.78 2.05 0 2.83L4 21.41c.39.39.9.59 1.41.59.51 0 1.02-.2 1.41-.59l7.78-7.78 2.81-2.81c.8-.78.8-2.07 0-2.86zM5.41 20L4 18.59l7.72-7.72 1.47 1.35L5.41 20z\"/>\n",
              "  </svg>\n",
              "      </button>\n",
              "      \n",
              "  <style>\n",
              "    .colab-df-container {\n",
              "      display:flex;\n",
              "      flex-wrap:wrap;\n",
              "      gap: 12px;\n",
              "    }\n",
              "\n",
              "    .colab-df-convert {\n",
              "      background-color: #E8F0FE;\n",
              "      border: none;\n",
              "      border-radius: 50%;\n",
              "      cursor: pointer;\n",
              "      display: none;\n",
              "      fill: #1967D2;\n",
              "      height: 32px;\n",
              "      padding: 0 0 0 0;\n",
              "      width: 32px;\n",
              "    }\n",
              "\n",
              "    .colab-df-convert:hover {\n",
              "      background-color: #E2EBFA;\n",
              "      box-shadow: 0px 1px 2px rgba(60, 64, 67, 0.3), 0px 1px 3px 1px rgba(60, 64, 67, 0.15);\n",
              "      fill: #174EA6;\n",
              "    }\n",
              "\n",
              "    [theme=dark] .colab-df-convert {\n",
              "      background-color: #3B4455;\n",
              "      fill: #D2E3FC;\n",
              "    }\n",
              "\n",
              "    [theme=dark] .colab-df-convert:hover {\n",
              "      background-color: #434B5C;\n",
              "      box-shadow: 0px 1px 3px 1px rgba(0, 0, 0, 0.15);\n",
              "      filter: drop-shadow(0px 1px 2px rgba(0, 0, 0, 0.3));\n",
              "      fill: #FFFFFF;\n",
              "    }\n",
              "  </style>\n",
              "\n",
              "      <script>\n",
              "        const buttonEl =\n",
              "          document.querySelector('#df-6c6838ec-5a1b-4ad6-b769-5bd495327414 button.colab-df-convert');\n",
              "        buttonEl.style.display =\n",
              "          google.colab.kernel.accessAllowed ? 'block' : 'none';\n",
              "\n",
              "        async function convertToInteractive(key) {\n",
              "          const element = document.querySelector('#df-6c6838ec-5a1b-4ad6-b769-5bd495327414');\n",
              "          const dataTable =\n",
              "            await google.colab.kernel.invokeFunction('convertToInteractive',\n",
              "                                                     [key], {});\n",
              "          if (!dataTable) return;\n",
              "\n",
              "          const docLinkHtml = 'Like what you see? Visit the ' +\n",
              "            '<a target=\"_blank\" href=https://colab.research.google.com/notebooks/data_table.ipynb>data table notebook</a>'\n",
              "            + ' to learn more about interactive tables.';\n",
              "          element.innerHTML = '';\n",
              "          dataTable['output_type'] = 'display_data';\n",
              "          await google.colab.output.renderOutput(dataTable, element);\n",
              "          const docLink = document.createElement('div');\n",
              "          docLink.innerHTML = docLinkHtml;\n",
              "          element.appendChild(docLink);\n",
              "        }\n",
              "      </script>\n",
              "    </div>\n",
              "  </div>\n",
              "  "
            ]
          },
          "metadata": {},
          "execution_count": 18
        }
      ]
    },
    {
      "cell_type": "markdown",
      "source": [
        "Lakukan analisis histogram untuk pengaruh kolom age terhadap kolom strength, apakah yang dapat Anda simpulkan ?"
      ],
      "metadata": {
        "id": "O0DrljRDwKiM"
      }
    },
    {
      "cell_type": "code",
      "source": [
        "#strength dengan menggunakan age\n",
        "print(\"Box plot\", \"age\", \"strength\")\n",
        "fig = plt.figure(figsize=(10,10))\n",
        "sns.boxplot(x=\"age\", y=\"strength\", data=concrete)\n",
        "plt.show()"
      ],
      "metadata": {
        "colab": {
          "base_uri": "https://localhost:8080/",
          "height": 623
        },
        "id": "cO5bvlT6wONN",
        "outputId": "6cf5cc18-3280-4289-df0c-642a18741f4a"
      },
      "execution_count": 22,
      "outputs": [
        {
          "output_type": "stream",
          "name": "stdout",
          "text": [
            "Box plot age strength\n"
          ]
        },
        {
          "output_type": "display_data",
          "data": {
            "text/plain": [
              "<Figure size 720x720 with 1 Axes>"
            ],
            "image/png": "[encoded data removed]"
          },
          "metadata": {
            "needs_background": "light"
          }
        }
      ]
    },
    {
      "cell_type": "code",
      "source": [
        "#strength dengan tanpa menggunakan age\n",
        "print(\"Box plot\", \"cement\", \"strength\")\n",
        "fig = plt.figure(figsize=(10,10))\n",
        "sns.boxplot(x=\"cement\", y=\"strength\", data=concrete)\n",
        "plt.show()"
      ],
      "metadata": {
        "colab": {
          "base_uri": "https://localhost:8080/",
          "height": 623
        },
        "id": "vZxBbboUz1x3",
        "outputId": "7aa0a1a5-9aba-4617-f7fa-1a86dd77daa3"
      },
      "execution_count": 26,
      "outputs": [
        {
          "output_type": "stream",
          "name": "stdout",
          "text": [
            "Box plot cement strength\n"
          ]
        },
        {
          "output_type": "display_data",
          "data": {
            "text/plain": [
              "<Figure size 720x720 with 1 Axes>"
            ],
            "image/png": "[encoded data removed]"
          },
          "metadata": {
            "needs_background": "light"
          }
        }
      ]
    },
    {
      "cell_type": "code",
      "source": [
        "concrete['strength'].hist(figsize=(8,8))\n",
        "plt.show()"
      ],
      "metadata": {
        "colab": {
          "base_uri": "https://localhost:8080/",
          "height": 483
        },
        "id": "ivy3quHDC5Nt",
        "outputId": "ad11197f-8cc0-4ae4-9989-6267105eb392"
      },
      "execution_count": 39,
      "outputs": [
        {
          "output_type": "display_data",
          "data": {
            "text/plain": [
              "<Figure size 576x576 with 1 Axes>"
            ],
            "image/png": "[encoded data removed]"
          },
          "metadata": {
            "needs_background": "light"
          }
        }
      ]
    },
    {
      "cell_type": "code",
      "source": [
        "concrete['age'].hist(figsize=(8,8))\n",
        "plt.show()"
      ],
      "metadata": {
        "colab": {
          "base_uri": "https://localhost:8080/",
          "height": 483
        },
        "id": "EeitKtPoC7Yd",
        "outputId": "c1b47e4f-a4cb-477c-c1ec-16b24b19280e"
      },
      "execution_count": 40,
      "outputs": [
        {
          "output_type": "display_data",
          "data": {
            "text/plain": [
              "<Figure size 576x576 with 1 Axes>"
            ],
            "image/png": "[encoded data removed]"
          },
          "metadata": {
            "needs_background": "light"
          }
        }
      ]
    },
    {
      "cell_type": "markdown",
      "source": [
        "Cari tahu komposisi concrete yang memiliki kekuatan tertinggi dan terendah"
      ],
      "metadata": {
        "id": "L6YLU4390R7x"
      }
    },
    {
      "cell_type": "code",
      "source": [
        "concrete.min()"
      ],
      "metadata": {
        "colab": {
          "base_uri": "https://localhost:8080/"
        },
        "id": "YTQV2WCt0Q29",
        "outputId": "e89da5da-2363-450a-c620-585fab8edec3"
      },
      "execution_count": 38,
      "outputs": [
        {
          "output_type": "execute_result",
          "data": {
            "text/plain": [
              "cement          102.00\n",
              "slag             11.00\n",
              "ash              24.50\n",
              "water           121.80\n",
              "superplastic      1.70\n",
              "coarseagg       801.00\n",
              "fineagg         594.00\n",
              "age               1.00\n",
              "strength          2.33\n",
              "dtype: float64"
            ]
          },
          "metadata": {},
          "execution_count": 38
        }
      ]
    },
    {
      "cell_type": "code",
      "source": [
        "concrete.max()"
      ],
      "metadata": {
        "colab": {
          "base_uri": "https://localhost:8080/"
        },
        "id": "BeORLudr06nB",
        "outputId": "83094633-ec9a-4950-fc9f-c30d3a29ee4d"
      },
      "execution_count": 37,
      "outputs": [
        {
          "output_type": "execute_result",
          "data": {
            "text/plain": [
              "cement           540.0\n",
              "slag             359.4\n",
              "ash              200.1\n",
              "water            247.0\n",
              "superplastic      32.2\n",
              "coarseagg       1145.0\n",
              "fineagg          992.6\n",
              "age              365.0\n",
              "strength          82.6\n",
              "dtype: float64"
            ]
          },
          "metadata": {},
          "execution_count": 37
        }
      ]
    },
    {
      "cell_type": "markdown",
      "source": [
        "kesimpulan: semua panduan tercampur satu menjadi sebuah object yang ada pada data"
      ],
      "metadata": {
        "id": "O0LoyPn7NNK7"
      }
    }
  ]
}